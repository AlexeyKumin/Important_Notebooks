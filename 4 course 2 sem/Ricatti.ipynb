{
 "cells": [
  {
   "cell_type": "code",
   "execution_count": 1,
   "metadata": {},
   "outputs": [
    {
     "name": "stdout",
     "output_type": "stream",
     "text": [
      "Probabilty of wating:  0.181022109438993 , alpha =  0.1 , mu =  0.5 , f =  0.5\n",
      "Probabilty of wating:  0.9838481649468426 , alpha =  0.5 , mu =  0.1 , f =  0.5\n",
      "Probabilty of wating:  0.6224593312018546 , alpha =  0.5 , mu =  0.5 , f =  0.5\n",
      "Probabilty of wating:  0.52497918747894 , alpha =  0.5 , mu =  0.5 , f =  0.1\n"
     ]
    }
   ],
   "source": [
    "import numpy as np\n",
    "import scipy as sp\n",
    "import scipy.linalg\n",
    "%run Queue_theory.ipynb"
   ]
  },
  {
   "cell_type": "code",
   "execution_count": 94,
   "metadata": {},
   "outputs": [
    {
     "name": "stdout",
     "output_type": "stream",
     "text": [
      "[[76.136 16.537]\n",
      " [16.537  8.17 ]]\n"
     ]
    },
    {
     "data": {
      "text/plain": [
       "array([-16.537,  -8.17 ])"
      ]
     },
     "execution_count": 94,
     "metadata": {},
     "output_type": "execute_result"
    }
   ],
   "source": [
    "C = np.array([[0, 1, 0], \n",
    "              [0, 0, 1],\n",
    "             [0, 0, 0]])\n",
    "\n",
    "Ct= np.transpose(C)\n",
    "Ct.dot(C)\n",
    "\n",
    "A = np.array([[2, 1], \n",
    "              [-1, 2]])\n",
    "B= np.array([[0],\n",
    "            [1]])\n",
    "Q = np.array([[2, 1], \n",
    "              [1, 1]])\n",
    "R=np.array([[1]])\n",
    "X= sp.linalg.solve_continuous_are(A, B, Q, R)\n",
    "-np.linalg.inv(np.transpose(B).dot(X).dot(B) + R).dot(np.transpose(B)).dot(X).dot(A)\n",
    "\n",
    "print(np.round(X, 3))\n",
    "\n",
    "\n",
    "Q = np.array([[2, 1], \n",
    "              [1, 1]])\n",
    "\n",
    "X = np.array([[76.136 , 16.537],\n",
    "             [16.537 , 8.17 ]])\n",
    "np.linalg.cholesky(Q)\n",
    "np.dot(np.array([0, -1]), X)"
   ]
  },
  {
   "cell_type": "code",
   "execution_count": 90,
   "metadata": {},
   "outputs": [],
   "source": [
    "u_control = lambda x, th : th[0]*x[0] + th[1]*x[1]\n",
    "\n",
    "def lin_parametrized_system(A, B, u_func, th):\n",
    "    def d_system(t, x):\n",
    "        return np.dot(A, x) + B * u_func(x, th)\n",
    "    return d_system\n",
    "\n",
    "def plot_time(system, tstr, init_cond, ax, title):\n",
    "    result = solve_ivp(system ,tstr, init_cond, method='RK23',t_eval=np.linspace(tstr[0], tstr[1], 150))\n",
    "    ax.plot(result.t, result.y[0], result.t, result.y[1])\n",
    "    ax.legend([r'$x_1$', r'$x_2$'], fontsize=20)\n",
    "    ax.set_title(title, fontsize = 15)\n",
    "    ax.grid()\n",
    "    return ax, result"
   ]
  },
  {
   "cell_type": "code",
   "execution_count": 100,
   "metadata": {},
   "outputs": [
    {
     "name": "stdout",
     "output_type": "stream",
     "text": [
      "[[ 2  1]\n",
      " [-1  2]]\n"
     ]
    },
    {
     "data": {
      "image/png": "[encoded data removed]",
      "text/plain": [
       "<Figure size 720x360 with 1 Axes>"
      ]
     },
     "metadata": {
      "needs_background": "light"
     },
     "output_type": "display_data"
    }
   ],
   "source": [
    "A = np.array([[2, 1], \n",
    "              [-1, 2]])\n",
    "B= np.array([0, 1])\n",
    "\n",
    "n = 1\n",
    "fig2, (ax1) = plt.subplots(nrows=n, figsize=(10,5*n))\n",
    "init_cond = np.array([0.3, 0.3])\n",
    "#th = [-11.398, -9.895, -1.643]\n",
    "th = [-16.537, -8.17]\n",
    "#th = [0, 0]\n",
    "t_interval = np.array([0, 20])\n",
    "\n",
    "plot_time(lin_parametrized_system(A, B, u_control, th),\n",
    "          t_interval, init_cond,\n",
    "          ax1, r\"lin system, control\")\n",
    "print(A)"
   ]
  },
  {
   "cell_type": "code",
   "execution_count": 82,
   "metadata": {},
   "outputs": [
    {
     "name": "stdout",
     "output_type": "stream",
     "text": [
      "[ 1.+0.j -2.+0.j  2.+0.j] [[0.         0.         0.57735027]\n",
      " [0.         0.70710678 0.57735027]\n",
      " [1.         0.70710678 0.57735027]]\n",
      "[[ 0. -1.  1.]\n",
      " [ 1.  0.  0.]\n",
      " [-1.  1. -0.]]\n"
     ]
    },
    {
     "data": {
      "text/plain": [
       "array([0.5, 0.5, 1.5])"
      ]
     },
     "execution_count": 82,
     "metadata": {},
     "output_type": "execute_result"
    }
   ],
   "source": [
    "A =np.array([[0, 5, -7, 12],\n",
    "            [3, -10, 15, -24],\n",
    "            [5, -12, 19, 31],\n",
    "            [2, -3, 5, -8]])\n",
    "\n",
    "B=np.array([[0],\n",
    "            [2],\n",
    "            [3],\n",
    "            [1]])\n",
    "\n",
    "C=np.array([1, 2, -2, 3])\n",
    "\n",
    "np.dot(np.dot(C.dot(A), A) , A)\n",
    "\n",
    "O = np.array([[1, 2, -2, 3],\n",
    "            [2, 0, 0, -122],\n",
    "            [-244, 376, -624, 1000],\n",
    "            [8, -492, 492, -39296]])\n",
    "\n",
    "np.linalg.matrix_rank(O)\n",
    "\n",
    "Ca=([[0, 1, -431, -303],\n",
    "    [2, 1, 929, 553],\n",
    "    [3, 64, 1240, 19898],\n",
    "    [1, 1, 311, 63]])\n",
    "\n",
    "A.dot(A).dot(A).dot(B)\n",
    "np.linalg.matrix_rank(C)\n",
    "np.linalg.solve(O, np.zeros(4))\n",
    "\n",
    "from scipy.linalg import null_space\n",
    "from scipy.linalg import eig\n",
    "null_space(O)\n",
    "\n",
    "Cinv = np.linalg.inv(Ca)\n",
    "\n",
    "\n",
    "A =np.array([[2, 0, 0],\n",
    "            [4, -2, 0],\n",
    "            [4, -3, 1]])\n",
    "al, vec = eig(A)\n",
    "print(al, vec)\n",
    "P = np.array([[0, 1, 0],\n",
    "              [0, 1, 1],\n",
    "              [1, 1, 1]])\n",
    "Pinv = np.linalg.inv(P)\n",
    "print(Pinv)\n",
    "C = np.array([-2, 2, -2])\n",
    "P.dot(np.array([1, 0.5, 0]))"
   ]
  }
 ],
 "metadata": {
  "kernelspec": {
   "display_name": "Python 3",
   "language": "python",
   "name": "python3"
  },
  "language_info": {
   "codemirror_mode": {
    "name": "ipython",
    "version": 3
   },
   "file_extension": ".py",
   "mimetype": "text/x-python",
   "name": "python",
   "nbconvert_exporter": "python",
   "pygments_lexer": "ipython3",
   "version": "3.7.3"
  }
 },
 "nbformat": 4,
 "nbformat_minor": 2
}
