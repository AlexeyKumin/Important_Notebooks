{
 "cells": [
  {
   "cell_type": "code",
   "execution_count": 1,
   "metadata": {},
   "outputs": [],
   "source": [
    "import numpy as np\n",
    "import scipy as sp\n",
    "import matplotlib.pyplot as plt"
   ]
  },
  {
   "cell_type": "code",
   "execution_count": 15,
   "metadata": {},
   "outputs": [],
   "source": [
    "def parametrized_pendulum(m, M, g, l, u_func):\n",
    "    def pendulum(t, x):\n",
    "        d = (m + M) - m*np.cos(x[2])\n",
    "        return np.array([\n",
    "            x[1],\n",
    "            (m*(g - l*x[3]**2)*np.sin(x[2]) + u_func(x))/d,\n",
    "            x[3],\n",
    "            ((g*(m+M)/l - m*x[3]**2)*np.sin(x[2]) + u_func(x)/l)/d\n",
    "        ])\n",
    "    return pendulum\n",
    "\n",
    "def lin_parametrized_pendulum(mu, u_func):\n",
    "    def lin_pendulum(t, x):\n",
    "        return np.array([\n",
    "            x[1],\n",
    "            mu*x[2] + u_func(x),\n",
    "            x[3],\n",
    "            (1+mu)*x[2] + u_func(x)\n",
    "        ])\n",
    "    return lin_pendulum\n",
    "\n",
    "def lin_system_param(A, B, u, th):\n",
    "    def lin_sys(t, x):\n",
    "        return np.dot(A, x) + B * u(th, x)\n",
    "    return lin_sys\n"
   ]
  },
  {
   "cell_type": "code",
   "execution_count": 17,
   "metadata": {},
   "outputs": [
    {
     "data": {
      "text/plain": [
       "array([1., 0., 0., 0.])"
      ]
     },
     "execution_count": 17,
     "metadata": {},
     "output_type": "execute_result"
    }
   ],
   "source": [
    "mu = 1\n",
    "l = 10\n",
    "g = 9.8\n",
    "A = np.array([\n",
    "    [0, 1, 0, 0],\n",
    "    [0, 0, -mu, 0],\n",
    "    [0, 0, 0, 1],\n",
    "    [0, 0, mu/l + g/l, 0]\n",
    "])\n",
    "\n",
    "B = np.array([0, 1, 0, 1/l])\n",
    "\n",
    "sys = lin_system_param(A, B, u_control, np.array([0, 0, 0, 0]))\n",
    "\n",
    "sys(0, np.array([0, 1, 0, 0]))\n",
    "\n"
   ]
  }
 ],
 "metadata": {
  "kernelspec": {
   "display_name": "Python 3",
   "language": "python",
   "name": "python3"
  },
  "language_info": {
   "codemirror_mode": {
    "name": "ipython",
    "version": 3
   },
   "file_extension": ".py",
   "mimetype": "text/x-python",
   "name": "python",
   "nbconvert_exporter": "python",
   "pygments_lexer": "ipython3",
   "version": "3.7.3"
  }
 },
 "nbformat": 4,
 "nbformat_minor": 2
}
