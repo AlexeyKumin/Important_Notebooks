{
 "cells": [
  {
   "cell_type": "code",
   "execution_count": 37,
   "metadata": {},
   "outputs": [],
   "source": [
    "import numpy as np\n",
    "import scipy as sp\n",
    "import matplotlib.pyplot as plt\n",
    "from IPython.display import HTML\n",
    "from matplotlib import animation\n",
    "from scipy.integrate import solve_ivp"
   ]
  },
  {
   "cell_type": "code",
   "execution_count": 38,
   "metadata": {},
   "outputs": [],
   "source": [
    "def plot_time(system, tstr, init_cond, ax, title):\n",
    "    result = solve_ivp(system ,tstr, init_cond, method='RK45',\n",
    "    t_eval=np.linspace(tstr[0], tstr[1], 150))\n",
    "    ax.plot(result.t, result.y[0], result.t, result.y[1], result.t, result.y[2], result.t, result.y[3])\n",
    "    ax.legend([r'$x1$', r'$x2$', r'$x3$', r'$x4$'], fontsize=20)\n",
    "    ax.set_xlabel(r'time (s)')\n",
    "    ax.set_title(title, fontsize = 15)\n",
    "    ax.grid()\n",
    "    return result"
   ]
  },
  {
   "cell_type": "code",
   "execution_count": 39,
   "metadata": {},
   "outputs": [],
   "source": [
    "def system_anim(result):\n",
    "    fig, ax = plt.subplots()\n",
    "    ax.set_xlim((-5, 5))\n",
    "    ax.set_ylim((-1.5, 1.5))    \n",
    "    ax.set_aspect('equal')\n",
    "    ax.grid()\n",
    "\n",
    "    quad, = ax.plot([],[], marker='s', markersize=40, markeredgecolor='k',markeredgewidth=2)\n",
    "    line, = ax.plot([], [], 'o-')\n",
    "    def update(i):\n",
    "        angle = result.y[2][i]\n",
    "        axes_car = result.y[0][i]\n",
    "        quad.set_data([axes_car], [0])\n",
    "        x1 = np.sin(angle)\n",
    "        y1 = np.cos(angle)\n",
    "        line.set_data([axes_car, x1 + axes_car], [0, y1])\n",
    "        return (line, quad,)\n",
    "    len(result.y[0])\n",
    "    fig1 = plt.gcf()\n",
    "    fig1.set_size_inches(10, 6)\n",
    "    return animation.FuncAnimation(fig, update, np.arange(1, len(result.y[0])), interval=50, save_count=1000)"
   ]
  },
  {
   "cell_type": "code",
   "execution_count": 40,
   "metadata": {},
   "outputs": [],
   "source": [
    "def parametrized_pendulum(m, M, g, l, u, th):\n",
    "    def pendulum(t, x):\n",
    "        d = (m + M) - m*np.cos(x[2])\n",
    "        return np.array([\n",
    "            x[1],\n",
    "            (m*(g - l*x[3]**2)*np.sin(x[2]) + u(th, x))/d,\n",
    "            x[3],\n",
    "            ((g*(m+M)/l - m*x[3]**2)*np.sin(x[2]) + u(th, x)/l)/d\n",
    "        ])\n",
    "    return pendulum\n",
    "\n",
    "def lin_parametrized_pendulum(mu, u_func, th):\n",
    "    def lin_pendulum(t, x):\n",
    "        return np.array([\n",
    "            x[1],\n",
    "            mu*x[2] + u(th, x),\n",
    "            x[3],\n",
    "            (1+mu)*x[2] + u(th, x)\n",
    "        ])\n",
    "    return lin_pendulum\n",
    "\n",
    "def u_control(th, x):\n",
    "    return np.dot(th, x)\n",
    "\n",
    "def lin_system_param(A, B, u, th):\n",
    "    def lin_sys(t, x):\n",
    "        return np.dot(A, x) + B * u(th, x)\n",
    "    return lin_sys\n"
   ]
  },
  {
   "cell_type": "code",
   "execution_count": 41,
   "metadata": {},
   "outputs": [],
   "source": [
    "def control_matrix(A, B):\n",
    "    ret = np.array(np.vstack(B))\n",
    "    ret = np.hstack((ret, np.vstack(np.dot(A, B))))\n",
    "    #ret = np.hstack((ret, np.vstack(np.dot(np.dot(A, A), B))))\n",
    "    #ret = np.hstack((ret, np.vstack(np.dot(np.dot(np.dot(A, A), A), B))))\n",
    "    for i in range(1, A.shape[0] - 1):\n",
    "        ret = np.hstack((ret, np.vstack(np.dot(A, ret[:,i]))))\n",
    "    return ret\n",
    "\n",
    "def Frobenius_first(A, B):\n",
    "    S1 = control_matrix(A, B)\n",
    "    print ( \"S1 =\")\n",
    "    print(S1)\n",
    "    rank = np.linalg.matrix_rank(S1)\n",
    "    if (rank != S1.shape[0]):\n",
    "        print (\"SYSTEM NON-CONTROL, rank = \", rank)\n",
    "        return None, None, None\n",
    "    S1_inv = np.linalg.inv(S1)\n",
    "    return np.dot(np.dot(S1_inv, A), S1), np.dot(S1_inv, B), S1\n",
    "\n",
    "def Frobenius_second(A, B):\n",
    "    _A, _B, S1 = Frobenius_first(A, B)\n",
    "    print(\"Frobenius first A =\")\n",
    "    print(_A)\n",
    "    print(\"B =\")\n",
    "    print(_B)\n",
    "    _A = np.transpose(_A)\n",
    "    _B[0] = 0\n",
    "    _B[_B.shape[0] - 1] = 1\n",
    "    S2 = control_matrix(_A, _B)\n",
    "    S2_inv = np.linalg.inv(S2)\n",
    "    S = np.dot(S1, S2_inv)   \n",
    "    return _A, _B, S\n",
    "\n",
    "def find_th(A, B, desired_eigens):\n",
    "    _A, _B, S = Frobenius_second(A, B)\n",
    "    print(\"Frobenius second  A =  \")\n",
    "    print(_A)\n",
    "    print(\"B =  \")\n",
    "    print(_B)\n",
    "    desired_poly = np.poly((desired_eigens))\n",
    "    \n",
    "    tmp = (_A[_A.shape[0] - 1])[::-1]\n",
    "    _th = (-tmp - desired_poly[1:])[::-1]\n",
    "    print(_th)\n",
    "    S_inv = np.linalg.inv(S)\n",
    "    return np.dot(_th, S_inv)\n",
    "\n"
   ]
  },
  {
   "cell_type": "code",
   "execution_count": 42,
   "metadata": {},
   "outputs": [
    {
     "name": "stdout",
     "output_type": "stream",
     "text": [
      "A = \n",
      "[[  0.     1.     0.     0.  ]\n",
      " [  0.     0.     0.98   0.  ]\n",
      " [  0.     0.     0.     1.  ]\n",
      " [  0.     0.   107.8    0.  ]]\n",
      "eigenv =  [  0.       0.      10.3827 -10.3827]\n"
     ]
    }
   ],
   "source": [
    "mu = 1\n",
    "l = 0.1\n",
    "g = 9.8\n",
    "m = 1\n",
    "M = 10\n",
    "A = np.array([\n",
    "    [0, 1, 0, 0],\n",
    "    [0, 0, m * g/M, 0],\n",
    "    [0, 0, 0, 1],\n",
    "    [0, 0, (M+m) * g / (M*l), 0]\n",
    "])\n",
    "\n",
    "B = np.array([0, 1 / M, 0, 1/ (M * l)])\n",
    "print(\"A = \")\n",
    "print(A)\n",
    "print(\"eigenv = \", np.linalg.eigvals(A))"
   ]
  },
  {
   "cell_type": "code",
   "execution_count": null,
   "metadata": {},
   "outputs": [
    {
     "name": "stdout",
     "output_type": "stream",
     "text": [
      "S1 =\n",
      "[[0.000e+00 1.000e-01 0.000e+00 9.800e-01]\n",
      " [1.000e-01 0.000e+00 9.800e-01 0.000e+00]\n",
      " [0.000e+00 1.000e+00 0.000e+00 1.078e+02]\n",
      " [1.000e+00 0.000e+00 1.078e+02 0.000e+00]]\n",
      "Frobenius first A =\n",
      "[[0.0000e+00 1.5578e-14 0.0000e+00 1.6793e-12]\n",
      " [1.0000e+00 0.0000e+00 1.5578e-14 0.0000e+00]\n",
      " [0.0000e+00 1.0000e+00 0.0000e+00 1.0780e+02]\n",
      " [0.0000e+00 0.0000e+00 1.0000e+00 0.0000e+00]]\n",
      "B =\n",
      "[1. 0. 0. 0.]\n",
      "Frobenius second  A =  \n",
      "[[0.0000e+00 1.0000e+00 0.0000e+00 0.0000e+00]\n",
      " [1.5578e-14 0.0000e+00 1.0000e+00 0.0000e+00]\n",
      " [0.0000e+00 1.5578e-14 0.0000e+00 1.0000e+00]\n",
      " [1.6793e-12 0.0000e+00 1.0780e+02 0.0000e+00]]\n",
      "B =  \n",
      "[0. 0. 0. 1.]\n",
      "[  -1.    -4.  -113.8   -4. ]\n",
      "th = [ 1.0204e-01  4.0816e-01 -1.1381e+02 -4.0408e+00]\n"
     ]
    },
    {
     "data": {
      "image/png": "[encoded data removed]",
      "text/plain": [
       "<Figure size 720x720 with 2 Axes>"
      ]
     },
     "metadata": {
      "needs_background": "light"
     },
     "output_type": "display_data"
    },
    {
     "name": "stdout",
     "output_type": "stream",
     "text": [
      "[[ 0.0000e+00  1.0000e+00  0.0000e+00  0.0000e+00]\n",
      " [ 1.0204e-02  4.0816e-02 -1.0401e+01 -4.0408e-01]\n",
      " [ 0.0000e+00  0.0000e+00  0.0000e+00  1.0000e+00]\n",
      " [ 1.0204e-01  4.0816e-01 -6.0102e+00 -4.0408e+00]]\n",
      "[-1.0006+0.0006j -1.0006-0.0006j -0.9994+0.0006j -0.9994-0.0006j]\n"
     ]
    }
   ],
   "source": [
    "np.set_printoptions(precision=4)\n",
    "nrow = 2\n",
    "\n",
    "fig, (ax1, ax2) = plt.subplots(nrows=nrow, figsize=(10,5 * nrow))\n",
    "t_interval = np.array([0, 20])\n",
    "init_cond = np.array([0, 0, 0.5, 0])\n",
    "\n",
    "sys = lin_system_param(A, B, u_control, np.array([0, 0, 0, 0]))\n",
    "\n",
    "plot_time(sys, t_interval, init_cond,\n",
    "          ax1, r\"lin system u=0\")\n",
    "\n",
    "\n",
    "desired_eigens = np.array([-1 ,-1, -1, -1])\n",
    "th = find_th(A, B, desired_eigens)\n",
    "print(\"th =\" , th)\n",
    "new_sys = lin_system_param(A, B, u_control, th)\n",
    "\n",
    "res = plot_time(new_sys, t_interval, init_cond,\n",
    "          ax2, r\"lin system\")\n",
    "\n",
    "plt.show()\n",
    "A1 = np.copy(A)\n",
    "A1[1] = A1[1] + B[1]*th\n",
    "A1[3] = A1[3] + B[3]*th\n",
    "print(A1)\n",
    "print (np.linalg.eigvals(A1))\n",
    "\n",
    "plt.show()\n",
    "\n",
    "anim = system_anim(res)\n",
    "#video = HTML(anim.to_html5_video())\n",
    "#mywriter = anim.FFMpegWriter()\n",
    "anim.save('mymovie.mp4')"
   ]
  },
  {
   "cell_type": "code",
   "execution_count": null,
   "metadata": {},
   "outputs": [],
   "source": []
  },
  {
   "cell_type": "code",
   "execution_count": null,
   "metadata": {},
   "outputs": [],
   "source": []
  }
 ],
 "metadata": {
  "kernelspec": {
   "display_name": "Python 3",
   "language": "python",
   "name": "python3"
  },
  "language_info": {
   "codemirror_mode": {
    "name": "ipython",
    "version": 3
   },
   "file_extension": ".py",
   "mimetype": "text/x-python",
   "name": "python",
   "nbconvert_exporter": "python",
   "pygments_lexer": "ipython3",
   "version": "3.7.3"
  }
 },
 "nbformat": 4,
 "nbformat_minor": 2
}
