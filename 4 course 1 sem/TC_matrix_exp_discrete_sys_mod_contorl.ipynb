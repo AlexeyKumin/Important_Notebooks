{
 "cells": [
  {
   "cell_type": "code",
   "execution_count": 3,
   "metadata": {},
   "outputs": [],
   "source": [
    "import numpy as np\n",
    "import scipy as sp"
   ]
  },
  {
   "cell_type": "code",
   "execution_count": 59,
   "metadata": {},
   "outputs": [
    {
     "name": "stdout",
     "output_type": "stream",
     "text": [
      "labmda_i = \n",
      "[ 0.9190889976 -1.1378052016 -4.781283796 ]\n",
      "S = \n",
      "[[ 0.7315003122 -0.648014488   0.044643312 ]\n",
      " [ 0.6723138887  0.7373142552 -0.2134523444]\n",
      " [-0.1135840142 -0.1909055067  0.9759329236]]\n",
      "S-1 = \n",
      "[[ 0.7508748788  0.6901208397  0.1165924081]\n",
      " [-0.6989616827  0.7952822383  0.2059145848]\n",
      " [-0.0493356154  0.2358875783  1.0785098406]]\n",
      "D = \n",
      "[[ 0.91909 -0.       0.     ]\n",
      " [ 0.      -1.13781 -0.     ]\n",
      " [-0.      -0.      -4.78128]]\n"
     ]
    }
   ],
   "source": [
    "A = np.array([[0, 1, 0],\n",
    "            [1, 0, 1],\n",
    "            [0, -1, -5]])\n",
    "np.set_printoptions(precision=10)\n",
    "lam, S = np.linalg.eig(A)\n",
    "print('labmda_i = ' )\n",
    "print(lam)\n",
    "print('S = ' )\n",
    "print(S)\n",
    "print('S-1 = ' )\n",
    "invS = np.linalg.inv(S);\n",
    "print(invS)\n",
    "\n",
    "D = np.dot(np.dot(invS, A), S)\n",
    "\n",
    "D = np.around(D, decimals= 5)\n",
    "print('D = ' )\n",
    "print(D)\n",
    "#B = A - np.diag([lam[0], lam[0], lam[0]])\n",
    "#np.linalg.solve(B, [0, 0, 0])\n",
    "#np.linalg.det(B)\n",
    "#print(np.dot(A, v[:,1]))\n",
    "#lam[1] * v[:,1]\n"
   ]
  }
 ],
 "metadata": {
  "kernelspec": {
   "display_name": "Python 3",
   "language": "python",
   "name": "python3"
  },
  "language_info": {
   "codemirror_mode": {
    "name": "ipython",
    "version": 3
   },
   "file_extension": ".py",
   "mimetype": "text/x-python",
   "name": "python",
   "nbconvert_exporter": "python",
   "pygments_lexer": "ipython3",
   "version": "3.7.3"
  }
 },
 "nbformat": 4,
 "nbformat_minor": 2
}
