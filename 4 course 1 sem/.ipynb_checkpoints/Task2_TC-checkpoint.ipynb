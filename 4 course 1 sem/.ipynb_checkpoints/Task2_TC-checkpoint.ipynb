{
 "cells": [
  {
   "cell_type": "code",
   "execution_count": 3,
   "metadata": {},
   "outputs": [],
   "source": [
    "import numpy as np\n",
    "import scipy as sp"
   ]
  },
  {
   "cell_type": "code",
   "execution_count": 39,
   "metadata": {},
   "outputs": [
    {
     "name": "stdout",
     "output_type": "stream",
     "text": [
      "[ 0.919089  -1.1378052 -4.7812838]\n",
      "[[ 0.73150031 -0.64801449  0.04464331]\n",
      " [ 0.67231389  0.73731426 -0.21345234]\n",
      " [-0.11358401 -0.19090551  0.97593292]]\n"
     ]
    },
    {
     "data": {
      "text/plain": [
       "-2.6355856932582427e-15"
      ]
     },
     "execution_count": 39,
     "metadata": {},
     "output_type": "execute_result"
    }
   ],
   "source": [
    "A = np.array([[0, 1, 0],\n",
    "            [1, 0, 1],\n",
    "            [0, -1, -5]])\n",
    "\n",
    "#A = np.array([[1,2,3],[3,2,1],[1,0,-1]])\n",
    "\n",
    "lam, v = np.linalg.eig(A)\n",
    "print(lam)\n",
    "print(v)\n",
    "\n",
    "B = A - np.diag([lam[0], lam[0], lam[0]])\n",
    "np.linalg.solve(B, [0, 0, 0])\n",
    "np.linalg.det(B)\n",
    "#print(np.dot(A, v[:,1]))\n",
    "#lam[1] * v[:,1]\n",
    "\n"
   ]
  }
 ],
 "metadata": {
  "kernelspec": {
   "display_name": "Python 3",
   "language": "python",
   "name": "python3"
  },
  "language_info": {
   "codemirror_mode": {
    "name": "ipython",
    "version": 3
   },
   "file_extension": ".py",
   "mimetype": "text/x-python",
   "name": "python",
   "nbconvert_exporter": "python",
   "pygments_lexer": "ipython3",
   "version": "3.7.3"
  }
 },
 "nbformat": 4,
 "nbformat_minor": 2
}
